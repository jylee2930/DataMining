{
  "nbformat": 4,
  "nbformat_minor": 0,
  "metadata": {
    "colab": {
      "private_outputs": true,
      "provenance": [],
      "gpuType": "T4",
      "authorship_tag": "ABX9TyOaHkrnT24dAMSajr3yprxn",
      "include_colab_link": true
    },
    "kernelspec": {
      "name": "python3",
      "display_name": "Python 3"
    },
    "language_info": {
      "name": "python"
    },
    "accelerator": "GPU"
  },
  "cells": [
    {
      "cell_type": "markdown",
      "metadata": {
        "id": "view-in-github",
        "colab_type": "text"
      },
      "source": [
        "<a href=\"https://colab.research.google.com/github/jylee2930/DataMining/blob/main/8%EC%A3%BC%EC%B0%A8_%EA%B0%9D%EC%B2%B4%ED%83%90%EC%A7%80.ipynb\" target=\"_parent\"><img src=\"https://colab.research.google.com/assets/colab-badge.svg\" alt=\"Open In Colab\"/></a>"
      ]
    },
    {
      "cell_type": "code",
      "execution_count": null,
      "metadata": {
        "id": "i_3vWpT1LKpD"
      },
      "outputs": [],
      "source": [
        "import tensorflow as tf  # tensorflow\n",
        "import tensorflow_hub as tfhub  # tensorflow hub"
      ]
    },
    {
      "cell_type": "code",
      "source": [
        "img_path = 'https://upload.wikimedia.org/wikipedia/commons/thumb/c/c4/Gangnam_Seoul_January_2009.jpg/1280px-Gangnam_Seoul_January_2009.jpg'\n",
        "img = tf.keras.utils.get_file(fname='gangnam', origin=img_path)\n",
        "img = tf.io.read_file(img)   # 파일 객체를 string으로 변환\n",
        "img = tf.image.decode_jpeg(img, channels=3)   # 문자(string)를 숫자(unit8) 텐서로 변환\n",
        "img = tf.image.convert_image_dtype(img, tf.float32)   # 0 ~ 1 범위로 정규화\n",
        "\n",
        "import matplotlib.pylab as plt\n",
        "plt.figure(figsize=(15, 10))\n",
        "plt.imshow(img)"
      ],
      "metadata": {
        "id": "8FqcLPKELYeY"
      },
      "execution_count": null,
      "outputs": []
    },
    {
      "cell_type": "code",
      "source": [
        "img_input = tf.expand_dims(img, 0)  # batch_size 추가\n",
        "img_input.shape"
      ],
      "metadata": {
        "id": "QErEiBClT-WW"
      },
      "execution_count": null,
      "outputs": []
    },
    {
      "cell_type": "code",
      "source": [
        "# TensorFlow Hub에서 모델 가져오기 - FasterRCNN+InceptionResNet V2\n",
        "model = tfhub.load(\"https://tfhub.dev/google/faster_rcnn/openimages_v4/inception_resnet_v2/1\")"
      ],
      "metadata": {
        "id": "AqL4rusVWhd8"
      },
      "execution_count": null,
      "outputs": []
    },
    {
      "cell_type": "code",
      "source": [
        "# 모델 시그니처(용도, 서명) 확인\n",
        "model.signatures.keys()"
      ],
      "metadata": {
        "id": "FziYfWTPWpz0"
      },
      "execution_count": null,
      "outputs": []
    },
    {
      "cell_type": "code",
      "source": [
        "# 객체탐지 모델 생성\n",
        "obj_detector = model.signatures['default']\n",
        "obj_detector\n"
      ],
      "metadata": {
        "id": "XDhOthWIiNLK"
      },
      "execution_count": null,
      "outputs": []
    },
    {
      "cell_type": "code",
      "source": [
        "# 모델을 이용하여 예측 (추론)\n",
        "result = obj_detector(img_input)\n",
        "result.keys()"
      ],
      "metadata": {
        "id": "EYX22JmJiQdh"
      },
      "execution_count": null,
      "outputs": []
    },
    {
      "cell_type": "code",
      "source": [
        "# 탐지한 객체의 개수\n",
        "len(result[\"detection_scores\"])"
      ],
      "metadata": {
        "id": "jxOFc_n3idCZ"
      },
      "execution_count": null,
      "outputs": []
    },
    {
      "cell_type": "code",
      "source": [
        "for key, value in result.items():\n",
        "    print(key, value)"
      ],
      "metadata": {
        "id": "bpMZNTImxIcR"
      },
      "execution_count": null,
      "outputs": []
    },
    {
      "cell_type": "code",
      "source": [
        "# 객체 탐지 결과를 시각화\n",
        "boxes = result[\"detection_boxes\"]    # Bounding Box 좌표 예측값\n",
        "labels = result[\"detection_class_entities\"]   # 클래스 값\n",
        "scores = result[\"detection_scores\"]   # 신뢰도 (confidence)\n",
        "\n",
        "# 샘플 이미지 가로 세로 크기\n",
        "img_height, img_width = img.shape[0], img.shape[1]\n",
        "\n",
        "# 탐지할 최대 객체의 수\n",
        "obj_to_detect = 10\n",
        "\n",
        "# 시각화\n",
        "plt.figure(figsize=(15, 10))\n",
        "for i in range(min(obj_to_detect, boxes.shape[0])):\n",
        "    if scores[i] >= 0.5:\n",
        "        (ymax, xmin, ymin, xmax) = (boxes[i][0]*img_height, boxes[i][1]*img_width,\n",
        "                                    boxes[i][2]*img_height, boxes[i][3]*img_width)\n",
        "\n",
        "        plt.imshow(img)\n",
        "        plt.plot([xmin, xmax, xmax, xmin, xmin], [ymin, ymin, ymax, ymax, ymin],\n",
        "                 color='yellow', linewidth=2)\n",
        "\n",
        "        class_name = labels[i].numpy().decode('utf-8')\n",
        "        infer_score = int(scores[i].numpy()*100)\n",
        "        annotation = \"{}: {}%\".format(class_name, infer_score)\n",
        "        plt.text(xmin+10, ymax+20, annotation,\n",
        "                 color='white', backgroundcolor='blue', fontsize=10)"
      ],
      "metadata": {
        "id": "JtKnwNdbig4h"
      },
      "execution_count": null,
      "outputs": []
    },
    {
      "cell_type": "markdown",
      "source": [
        "# 과제 : 본인의 사진이든 온라인 사진 등 탐지하고 싶은 사진을 업로드하여 객체탐지 실시"
      ],
      "metadata": {
        "id": "I99hP-79iifN"
      }
    },
    {
      "cell_type": "code",
      "source": [
        "import tensorflow as tf  # tensorflow\n",
        "tf.keras.preprocessing.image.load_img('/content/class1.jpg')"
      ],
      "metadata": {
        "id": "kJBqjtbaS16N",
        "collapsed": true
      },
      "execution_count": null,
      "outputs": []
    },
    {
      "cell_type": "code",
      "source": [
        "import numpy as np\n",
        "\n",
        "img2 = tf.keras.preprocessing.image.load_img('/content/class1.jpg')"
      ],
      "metadata": {
        "id": "iK92z4J4TkZP"
      },
      "execution_count": null,
      "outputs": []
    },
    {
      "cell_type": "code",
      "source": [
        "img2 = tf.cast(img2,tf.float32) /255\n",
        "img2_input = tf.expand_dims(img2, 0)  # batch_size 추가, 4차원 텐서로 입력\n",
        "img2_input.shape"
      ],
      "metadata": {
        "id": "YZGY1xUIOrdZ"
      },
      "execution_count": null,
      "outputs": []
    },
    {
      "cell_type": "code",
      "source": [
        "# TensorFlow Hub에서 모델 가져오기 - FasterRCNN+InceptionResNet V2\n",
        "import tensorflow_hub as tfhub\n",
        "model = tfhub.load(\"https://tfhub.dev/google/faster_rcnn/openimages_v4/inception_resnet_v2/1\")"
      ],
      "metadata": {
        "id": "LRpvBZQ2QD_p"
      },
      "execution_count": null,
      "outputs": []
    },
    {
      "cell_type": "code",
      "source": [
        "# 모델 시그니처(용도) 확인\n",
        "model.signatures.keys()"
      ],
      "metadata": {
        "id": "XI9_rFm5PLm0"
      },
      "execution_count": null,
      "outputs": []
    },
    {
      "cell_type": "code",
      "source": [
        "# 객체탐지 모델 생성\n",
        "obj_detector = model.signatures['default']\n",
        "obj_detector"
      ],
      "metadata": {
        "id": "IH9kCpHnQqu3"
      },
      "execution_count": null,
      "outputs": []
    },
    {
      "cell_type": "code",
      "source": [
        "# 모델을 이용하여 예측 (추론)\n",
        "result2 = obj_detector(img2_input)\n",
        "result2.keys()"
      ],
      "metadata": {
        "id": "Uj5jBQPGQxyc"
      },
      "execution_count": null,
      "outputs": []
    },
    {
      "cell_type": "code",
      "source": [
        "for key, value in result2.items():\n",
        "    print(key, value)"
      ],
      "metadata": {
        "id": "7dVSm6GUVBur"
      },
      "execution_count": null,
      "outputs": []
    },
    {
      "cell_type": "code",
      "source": [
        "labesls = result2[\"detection_class_labels\"]\n",
        "names = result2['detection_class_names']"
      ],
      "metadata": {
        "id": "d-kKK72YN2gP"
      },
      "execution_count": null,
      "outputs": []
    },
    {
      "cell_type": "code",
      "source": [
        "boxes = result2[\"detection_boxes\"]    # Bounding Box 좌표 예측값\n",
        "labels = result2[\"detection_class_entities\"]   # 클래스 값\n",
        "scores = result2[\"detection_scores\"]   # 신뢰도 (confidence)"
      ],
      "metadata": {
        "id": "4JluLPdeNvox"
      },
      "execution_count": null,
      "outputs": []
    },
    {
      "cell_type": "code",
      "source": [
        "# 탐지한 객체의 개수\n",
        "len(result2[\"detection_scores\"])"
      ],
      "metadata": {
        "id": "3BiSmlo4RUU-"
      },
      "execution_count": null,
      "outputs": []
    },
    {
      "cell_type": "code",
      "source": [
        "boxes"
      ],
      "metadata": {
        "id": "cO1DgVCWZqxZ"
      },
      "execution_count": null,
      "outputs": []
    },
    {
      "cell_type": "code",
      "source": [
        "result2[\"detection_scores\"]"
      ],
      "metadata": {
        "id": "pMz2G2jMX5nt"
      },
      "execution_count": null,
      "outputs": []
    },
    {
      "cell_type": "code",
      "source": [
        "result2[\"detection_boxes\"][0]"
      ],
      "metadata": {
        "id": "gcZ4RcvgXvNk"
      },
      "execution_count": null,
      "outputs": []
    },
    {
      "cell_type": "code",
      "source": [
        "result2[\"detection_class_entities\"]"
      ],
      "metadata": {
        "id": "8MCWCP3JXzMn"
      },
      "execution_count": null,
      "outputs": []
    },
    {
      "cell_type": "code",
      "source": [
        "import matplotlib.pylab as plt\n",
        "\n",
        "# 객체 탐지 결과를 시각화\n",
        "boxes = result2[\"detection_boxes\"]    # Bounding Box 좌표 예측값\n",
        "labels = result2[\"detection_class_entities\"]   # 클래스 값\n",
        "scores = result2[\"detection_scores\"]   # 신뢰도 (confidence)\n",
        "\n",
        "# 샘플 이미지 가로 세로 크기\n",
        "img2_height, img2_width = img2.shape[0], img2.shape[1]\n",
        "\n",
        "# 탐지할 최대 객체의 수\n",
        "obj_to_detect = 30\n",
        "\n",
        "# 시각화\n",
        "plt.figure(figsize=(15, 10))\n",
        "for i in range(min(obj_to_detect, boxes.shape[0])):\n",
        "    if scores[i] >= 0.5:\n",
        "        (ymax, xmin, ymin, xmax) = (boxes[i][0]*img2_height, boxes[i][1]*img2_width,\n",
        "                                    boxes[i][2]*img2_height, boxes[i][3]*img2_width)\n",
        "\n",
        "        plt.imshow(img2)\n",
        "        plt.plot([xmin, xmax, xmax, xmin, xmin], [ymin, ymin, ymax, ymax, ymin],\n",
        "                 color='yellow', linewidth=2)\n",
        "\n",
        "        class_name = labels[i].numpy().decode('utf-8')\n",
        "        infer_score = int(scores[i].numpy()*100)\n",
        "        annotation = \"{}: {}%\".format(class_name, infer_score)\n",
        "        plt.text(xmin+10, ymax+20, annotation,\n",
        "                 color='white', backgroundcolor='blue', fontsize=10)"
      ],
      "metadata": {
        "id": "uq8s_y6dRZLk"
      },
      "execution_count": null,
      "outputs": []
    }
  ]
}